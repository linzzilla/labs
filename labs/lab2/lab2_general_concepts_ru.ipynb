{
  "cells": [
    {
      "cell_type": "markdown",
      "metadata": {
        "id": "_NudLNPPU1IW"
      },
      "source": [
        "### Лабораторная работа 2: основные понятия"
      ]
    },
    {
      "cell_type": "markdown",
      "metadata": {
        "id": "YWMTB15wU1Ib"
      },
      "source": [
        "В сегодняшней лабораторной будем работать с данными о проданных на аукционе автомобилях (`Carvana Car Prediction`). Целевым признаком здесь является наличие скрытых продавцом существенных недостатков. \n",
        "\n",
        "Carvana &mdash; компания-перекупщик автомобилей, соответственно, ее задача &mdash; не допустить скупку автомобилей со скрытыми недостатками, так как их впоследствии тяжелее продавать."
      ]
    },
    {
      "cell_type": "markdown",
      "metadata": {
        "id": "ekRhxrudU1Ic"
      },
      "source": [
        "## 1"
      ]
    },
    {
      "cell_type": "markdown",
      "metadata": {
        "id": "bSe2P_i5U1Id"
      },
      "source": [
        "Загрузите данные о проданных на аукционе автомобилях. Посмотрите на \"сырые\" данные. \n",
        "\n",
        "Просмотрите файл `DataDictionary-ru.txt` и поймите, что означают столбцы матрицы. Выведите статистику по столбцам.\n"
      ]
    },
    {
      "cell_type": "code",
      "execution_count": 1,
      "metadata": {
        "id": "lcde3hd1U1Id"
      },
      "outputs": [],
      "source": [
        "import pandas as pd"
      ]
    },
    {
      "cell_type": "code",
      "execution_count": 11,
      "metadata": {
        "colab": {
          "base_uri": "https://localhost:8080/",
          "height": 782
        },
        "id": "1_GTANbJU1If",
        "outputId": "078910da-d2e3-4daa-c659-b494f1814965"
      },
      "outputs": [
        {
          "output_type": "execute_result",
          "data": {
            "text/plain": [
              "       RefId  IsBadBuy  PurchDate Auction  VehYear  VehicleAge       Make  \\\n",
              "0          1         0  12/7/2009   ADESA     2006           3      MAZDA   \n",
              "1          2         0  12/7/2009   ADESA     2004           5      DODGE   \n",
              "2          3         0  12/7/2009   ADESA     2005           4      DODGE   \n",
              "3          4         0  12/7/2009   ADESA     2004           5      DODGE   \n",
              "4          5         0  12/7/2009   ADESA     2005           4       FORD   \n",
              "...      ...       ...        ...     ...      ...         ...        ...   \n",
              "72978  73010         1  12/2/2009   ADESA     2001           8    MERCURY   \n",
              "72979  73011         0  12/2/2009   ADESA     2007           2  CHEVROLET   \n",
              "72980  73012         0  12/2/2009   ADESA     2005           4       JEEP   \n",
              "72981  73013         0  12/2/2009   ADESA     2006           3  CHEVROLET   \n",
              "72982  73014         0  12/2/2009   ADESA     2006           3      MAZDA   \n",
              "\n",
              "                      Model Trim           SubModel  ...  \\\n",
              "0                    MAZDA3    i         4D SEDAN I  ...   \n",
              "1       1500 RAM PICKUP 2WD   ST  QUAD CAB 4.7L SLT  ...   \n",
              "2                STRATUS V6  SXT   4D SEDAN SXT FFV  ...   \n",
              "3                      NEON  SXT           4D SEDAN  ...   \n",
              "4                     FOCUS  ZX3       2D COUPE ZX3  ...   \n",
              "...                     ...  ...                ...  ...   \n",
              "72978                 SABLE   GS        4D SEDAN GS  ...   \n",
              "72979             MALIBU 4C   LS        4D SEDAN LS  ...   \n",
              "72980  GRAND CHEROKEE 2WD V  Lar    4D WAGON LAREDO  ...   \n",
              "72981                IMPALA   LS        4D SEDAN LS  ...   \n",
              "72982                MAZDA6    s         4D SEDAN S  ...   \n",
              "\n",
              "      MMRCurrentRetailAveragePrice MMRCurrentRetailCleanPrice  PRIMEUNIT  \\\n",
              "0                          11597.0                    12409.0        NaN   \n",
              "1                          11374.0                    12791.0        NaN   \n",
              "2                           7146.0                     8702.0        NaN   \n",
              "3                           4375.0                     5518.0        NaN   \n",
              "4                           6739.0                     7911.0        NaN   \n",
              "...                            ...                        ...        ...   \n",
              "72978                       4836.0                     5937.0        NaN   \n",
              "72979                      10151.0                    11652.0        NaN   \n",
              "72980                      11831.0                    14402.0        NaN   \n",
              "72981                      10099.0                    11228.0        NaN   \n",
              "72982                      11954.0                    13246.0        NaN   \n",
              "\n",
              "      AUCGUART  BYRNO VNZIP1 VNST VehBCost  IsOnlineSale  WarrantyCost  \n",
              "0          NaN  21973  33619   FL   7100.0             0          1113  \n",
              "1          NaN  19638  33619   FL   7600.0             0          1053  \n",
              "2          NaN  19638  33619   FL   4900.0             0          1389  \n",
              "3          NaN  19638  33619   FL   4100.0             0           630  \n",
              "4          NaN  19638  33619   FL   4000.0             0          1020  \n",
              "...        ...    ...    ...  ...      ...           ...           ...  \n",
              "72978      NaN  18111  30212   GA   4200.0             0           993  \n",
              "72979      NaN  18881  30212   GA   6200.0             0          1038  \n",
              "72980      NaN  18111  30212   GA   8200.0             0          1893  \n",
              "72981      NaN  18881  30212   GA   7000.0             0          1974  \n",
              "72982      NaN  18111  30212   GA   8000.0             0          1313  \n",
              "\n",
              "[72983 rows x 34 columns]"
            ],
            "text/html": [
              "\n",
              "  <div id=\"df-2ed66367-d713-4a3d-8a6c-2c3d05f1c6ae\">\n",
              "    <div class=\"colab-df-container\">\n",
              "      <div>\n",
              "<style scoped>\n",
              "    .dataframe tbody tr th:only-of-type {\n",
              "        vertical-align: middle;\n",
              "    }\n",
              "\n",
              "    .dataframe tbody tr th {\n",
              "        vertical-align: top;\n",
              "    }\n",
              "\n",
              "    .dataframe thead th {\n",
              "        text-align: right;\n",
              "    }\n",
              "</style>\n",
              "<table border=\"1\" class=\"dataframe\">\n",
              "  <thead>\n",
              "    <tr style=\"text-align: right;\">\n",
              "      <th></th>\n",
              "      <th>RefId</th>\n",
              "      <th>IsBadBuy</th>\n",
              "      <th>PurchDate</th>\n",
              "      <th>Auction</th>\n",
              "      <th>VehYear</th>\n",
              "      <th>VehicleAge</th>\n",
              "      <th>Make</th>\n",
              "      <th>Model</th>\n",
              "      <th>Trim</th>\n",
              "      <th>SubModel</th>\n",
              "      <th>...</th>\n",
              "      <th>MMRCurrentRetailAveragePrice</th>\n",
              "      <th>MMRCurrentRetailCleanPrice</th>\n",
              "      <th>PRIMEUNIT</th>\n",
              "      <th>AUCGUART</th>\n",
              "      <th>BYRNO</th>\n",
              "      <th>VNZIP1</th>\n",
              "      <th>VNST</th>\n",
              "      <th>VehBCost</th>\n",
              "      <th>IsOnlineSale</th>\n",
              "      <th>WarrantyCost</th>\n",
              "    </tr>\n",
              "  </thead>\n",
              "  <tbody>\n",
              "    <tr>\n",
              "      <th>0</th>\n",
              "      <td>1</td>\n",
              "      <td>0</td>\n",
              "      <td>12/7/2009</td>\n",
              "      <td>ADESA</td>\n",
              "      <td>2006</td>\n",
              "      <td>3</td>\n",
              "      <td>MAZDA</td>\n",
              "      <td>MAZDA3</td>\n",
              "      <td>i</td>\n",
              "      <td>4D SEDAN I</td>\n",
              "      <td>...</td>\n",
              "      <td>11597.0</td>\n",
              "      <td>12409.0</td>\n",
              "      <td>NaN</td>\n",
              "      <td>NaN</td>\n",
              "      <td>21973</td>\n",
              "      <td>33619</td>\n",
              "      <td>FL</td>\n",
              "      <td>7100.0</td>\n",
              "      <td>0</td>\n",
              "      <td>1113</td>\n",
              "    </tr>\n",
              "    <tr>\n",
              "      <th>1</th>\n",
              "      <td>2</td>\n",
              "      <td>0</td>\n",
              "      <td>12/7/2009</td>\n",
              "      <td>ADESA</td>\n",
              "      <td>2004</td>\n",
              "      <td>5</td>\n",
              "      <td>DODGE</td>\n",
              "      <td>1500 RAM PICKUP 2WD</td>\n",
              "      <td>ST</td>\n",
              "      <td>QUAD CAB 4.7L SLT</td>\n",
              "      <td>...</td>\n",
              "      <td>11374.0</td>\n",
              "      <td>12791.0</td>\n",
              "      <td>NaN</td>\n",
              "      <td>NaN</td>\n",
              "      <td>19638</td>\n",
              "      <td>33619</td>\n",
              "      <td>FL</td>\n",
              "      <td>7600.0</td>\n",
              "      <td>0</td>\n",
              "      <td>1053</td>\n",
              "    </tr>\n",
              "    <tr>\n",
              "      <th>2</th>\n",
              "      <td>3</td>\n",
              "      <td>0</td>\n",
              "      <td>12/7/2009</td>\n",
              "      <td>ADESA</td>\n",
              "      <td>2005</td>\n",
              "      <td>4</td>\n",
              "      <td>DODGE</td>\n",
              "      <td>STRATUS V6</td>\n",
              "      <td>SXT</td>\n",
              "      <td>4D SEDAN SXT FFV</td>\n",
              "      <td>...</td>\n",
              "      <td>7146.0</td>\n",
              "      <td>8702.0</td>\n",
              "      <td>NaN</td>\n",
              "      <td>NaN</td>\n",
              "      <td>19638</td>\n",
              "      <td>33619</td>\n",
              "      <td>FL</td>\n",
              "      <td>4900.0</td>\n",
              "      <td>0</td>\n",
              "      <td>1389</td>\n",
              "    </tr>\n",
              "    <tr>\n",
              "      <th>3</th>\n",
              "      <td>4</td>\n",
              "      <td>0</td>\n",
              "      <td>12/7/2009</td>\n",
              "      <td>ADESA</td>\n",
              "      <td>2004</td>\n",
              "      <td>5</td>\n",
              "      <td>DODGE</td>\n",
              "      <td>NEON</td>\n",
              "      <td>SXT</td>\n",
              "      <td>4D SEDAN</td>\n",
              "      <td>...</td>\n",
              "      <td>4375.0</td>\n",
              "      <td>5518.0</td>\n",
              "      <td>NaN</td>\n",
              "      <td>NaN</td>\n",
              "      <td>19638</td>\n",
              "      <td>33619</td>\n",
              "      <td>FL</td>\n",
              "      <td>4100.0</td>\n",
              "      <td>0</td>\n",
              "      <td>630</td>\n",
              "    </tr>\n",
              "    <tr>\n",
              "      <th>4</th>\n",
              "      <td>5</td>\n",
              "      <td>0</td>\n",
              "      <td>12/7/2009</td>\n",
              "      <td>ADESA</td>\n",
              "      <td>2005</td>\n",
              "      <td>4</td>\n",
              "      <td>FORD</td>\n",
              "      <td>FOCUS</td>\n",
              "      <td>ZX3</td>\n",
              "      <td>2D COUPE ZX3</td>\n",
              "      <td>...</td>\n",
              "      <td>6739.0</td>\n",
              "      <td>7911.0</td>\n",
              "      <td>NaN</td>\n",
              "      <td>NaN</td>\n",
              "      <td>19638</td>\n",
              "      <td>33619</td>\n",
              "      <td>FL</td>\n",
              "      <td>4000.0</td>\n",
              "      <td>0</td>\n",
              "      <td>1020</td>\n",
              "    </tr>\n",
              "    <tr>\n",
              "      <th>...</th>\n",
              "      <td>...</td>\n",
              "      <td>...</td>\n",
              "      <td>...</td>\n",
              "      <td>...</td>\n",
              "      <td>...</td>\n",
              "      <td>...</td>\n",
              "      <td>...</td>\n",
              "      <td>...</td>\n",
              "      <td>...</td>\n",
              "      <td>...</td>\n",
              "      <td>...</td>\n",
              "      <td>...</td>\n",
              "      <td>...</td>\n",
              "      <td>...</td>\n",
              "      <td>...</td>\n",
              "      <td>...</td>\n",
              "      <td>...</td>\n",
              "      <td>...</td>\n",
              "      <td>...</td>\n",
              "      <td>...</td>\n",
              "      <td>...</td>\n",
              "    </tr>\n",
              "    <tr>\n",
              "      <th>72978</th>\n",
              "      <td>73010</td>\n",
              "      <td>1</td>\n",
              "      <td>12/2/2009</td>\n",
              "      <td>ADESA</td>\n",
              "      <td>2001</td>\n",
              "      <td>8</td>\n",
              "      <td>MERCURY</td>\n",
              "      <td>SABLE</td>\n",
              "      <td>GS</td>\n",
              "      <td>4D SEDAN GS</td>\n",
              "      <td>...</td>\n",
              "      <td>4836.0</td>\n",
              "      <td>5937.0</td>\n",
              "      <td>NaN</td>\n",
              "      <td>NaN</td>\n",
              "      <td>18111</td>\n",
              "      <td>30212</td>\n",
              "      <td>GA</td>\n",
              "      <td>4200.0</td>\n",
              "      <td>0</td>\n",
              "      <td>993</td>\n",
              "    </tr>\n",
              "    <tr>\n",
              "      <th>72979</th>\n",
              "      <td>73011</td>\n",
              "      <td>0</td>\n",
              "      <td>12/2/2009</td>\n",
              "      <td>ADESA</td>\n",
              "      <td>2007</td>\n",
              "      <td>2</td>\n",
              "      <td>CHEVROLET</td>\n",
              "      <td>MALIBU 4C</td>\n",
              "      <td>LS</td>\n",
              "      <td>4D SEDAN LS</td>\n",
              "      <td>...</td>\n",
              "      <td>10151.0</td>\n",
              "      <td>11652.0</td>\n",
              "      <td>NaN</td>\n",
              "      <td>NaN</td>\n",
              "      <td>18881</td>\n",
              "      <td>30212</td>\n",
              "      <td>GA</td>\n",
              "      <td>6200.0</td>\n",
              "      <td>0</td>\n",
              "      <td>1038</td>\n",
              "    </tr>\n",
              "    <tr>\n",
              "      <th>72980</th>\n",
              "      <td>73012</td>\n",
              "      <td>0</td>\n",
              "      <td>12/2/2009</td>\n",
              "      <td>ADESA</td>\n",
              "      <td>2005</td>\n",
              "      <td>4</td>\n",
              "      <td>JEEP</td>\n",
              "      <td>GRAND CHEROKEE 2WD V</td>\n",
              "      <td>Lar</td>\n",
              "      <td>4D WAGON LAREDO</td>\n",
              "      <td>...</td>\n",
              "      <td>11831.0</td>\n",
              "      <td>14402.0</td>\n",
              "      <td>NaN</td>\n",
              "      <td>NaN</td>\n",
              "      <td>18111</td>\n",
              "      <td>30212</td>\n",
              "      <td>GA</td>\n",
              "      <td>8200.0</td>\n",
              "      <td>0</td>\n",
              "      <td>1893</td>\n",
              "    </tr>\n",
              "    <tr>\n",
              "      <th>72981</th>\n",
              "      <td>73013</td>\n",
              "      <td>0</td>\n",
              "      <td>12/2/2009</td>\n",
              "      <td>ADESA</td>\n",
              "      <td>2006</td>\n",
              "      <td>3</td>\n",
              "      <td>CHEVROLET</td>\n",
              "      <td>IMPALA</td>\n",
              "      <td>LS</td>\n",
              "      <td>4D SEDAN LS</td>\n",
              "      <td>...</td>\n",
              "      <td>10099.0</td>\n",
              "      <td>11228.0</td>\n",
              "      <td>NaN</td>\n",
              "      <td>NaN</td>\n",
              "      <td>18881</td>\n",
              "      <td>30212</td>\n",
              "      <td>GA</td>\n",
              "      <td>7000.0</td>\n",
              "      <td>0</td>\n",
              "      <td>1974</td>\n",
              "    </tr>\n",
              "    <tr>\n",
              "      <th>72982</th>\n",
              "      <td>73014</td>\n",
              "      <td>0</td>\n",
              "      <td>12/2/2009</td>\n",
              "      <td>ADESA</td>\n",
              "      <td>2006</td>\n",
              "      <td>3</td>\n",
              "      <td>MAZDA</td>\n",
              "      <td>MAZDA6</td>\n",
              "      <td>s</td>\n",
              "      <td>4D SEDAN S</td>\n",
              "      <td>...</td>\n",
              "      <td>11954.0</td>\n",
              "      <td>13246.0</td>\n",
              "      <td>NaN</td>\n",
              "      <td>NaN</td>\n",
              "      <td>18111</td>\n",
              "      <td>30212</td>\n",
              "      <td>GA</td>\n",
              "      <td>8000.0</td>\n",
              "      <td>0</td>\n",
              "      <td>1313</td>\n",
              "    </tr>\n",
              "  </tbody>\n",
              "</table>\n",
              "<p>72983 rows × 34 columns</p>\n",
              "</div>\n",
              "      <button class=\"colab-df-convert\" onclick=\"convertToInteractive('df-2ed66367-d713-4a3d-8a6c-2c3d05f1c6ae')\"\n",
              "              title=\"Convert this dataframe to an interactive table.\"\n",
              "              style=\"display:none;\">\n",
              "        \n",
              "  <svg xmlns=\"http://www.w3.org/2000/svg\" height=\"24px\"viewBox=\"0 0 24 24\"\n",
              "       width=\"24px\">\n",
              "    <path d=\"M0 0h24v24H0V0z\" fill=\"none\"/>\n",
              "    <path d=\"M18.56 5.44l.94 2.06.94-2.06 2.06-.94-2.06-.94-.94-2.06-.94 2.06-2.06.94zm-11 1L8.5 8.5l.94-2.06 2.06-.94-2.06-.94L8.5 2.5l-.94 2.06-2.06.94zm10 10l.94 2.06.94-2.06 2.06-.94-2.06-.94-.94-2.06-.94 2.06-2.06.94z\"/><path d=\"M17.41 7.96l-1.37-1.37c-.4-.4-.92-.59-1.43-.59-.52 0-1.04.2-1.43.59L10.3 9.45l-7.72 7.72c-.78.78-.78 2.05 0 2.83L4 21.41c.39.39.9.59 1.41.59.51 0 1.02-.2 1.41-.59l7.78-7.78 2.81-2.81c.8-.78.8-2.07 0-2.86zM5.41 20L4 18.59l7.72-7.72 1.47 1.35L5.41 20z\"/>\n",
              "  </svg>\n",
              "      </button>\n",
              "      \n",
              "  <style>\n",
              "    .colab-df-container {\n",
              "      display:flex;\n",
              "      flex-wrap:wrap;\n",
              "      gap: 12px;\n",
              "    }\n",
              "\n",
              "    .colab-df-convert {\n",
              "      background-color: #E8F0FE;\n",
              "      border: none;\n",
              "      border-radius: 50%;\n",
              "      cursor: pointer;\n",
              "      display: none;\n",
              "      fill: #1967D2;\n",
              "      height: 32px;\n",
              "      padding: 0 0 0 0;\n",
              "      width: 32px;\n",
              "    }\n",
              "\n",
              "    .colab-df-convert:hover {\n",
              "      background-color: #E2EBFA;\n",
              "      box-shadow: 0px 1px 2px rgba(60, 64, 67, 0.3), 0px 1px 3px 1px rgba(60, 64, 67, 0.15);\n",
              "      fill: #174EA6;\n",
              "    }\n",
              "\n",
              "    [theme=dark] .colab-df-convert {\n",
              "      background-color: #3B4455;\n",
              "      fill: #D2E3FC;\n",
              "    }\n",
              "\n",
              "    [theme=dark] .colab-df-convert:hover {\n",
              "      background-color: #434B5C;\n",
              "      box-shadow: 0px 1px 3px 1px rgba(0, 0, 0, 0.15);\n",
              "      filter: drop-shadow(0px 1px 2px rgba(0, 0, 0, 0.3));\n",
              "      fill: #FFFFFF;\n",
              "    }\n",
              "  </style>\n",
              "\n",
              "      <script>\n",
              "        const buttonEl =\n",
              "          document.querySelector('#df-2ed66367-d713-4a3d-8a6c-2c3d05f1c6ae button.colab-df-convert');\n",
              "        buttonEl.style.display =\n",
              "          google.colab.kernel.accessAllowed ? 'block' : 'none';\n",
              "\n",
              "        async function convertToInteractive(key) {\n",
              "          const element = document.querySelector('#df-2ed66367-d713-4a3d-8a6c-2c3d05f1c6ae');\n",
              "          const dataTable =\n",
              "            await google.colab.kernel.invokeFunction('convertToInteractive',\n",
              "                                                     [key], {});\n",
              "          if (!dataTable) return;\n",
              "\n",
              "          const docLinkHtml = 'Like what you see? Visit the ' +\n",
              "            '<a target=\"_blank\" href=https://colab.research.google.com/notebooks/data_table.ipynb>data table notebook</a>'\n",
              "            + ' to learn more about interactive tables.';\n",
              "          element.innerHTML = '';\n",
              "          dataTable['output_type'] = 'display_data';\n",
              "          await google.colab.output.renderOutput(dataTable, element);\n",
              "          const docLink = document.createElement('div');\n",
              "          docLink.innerHTML = docLinkHtml;\n",
              "          element.appendChild(docLink);\n",
              "        }\n",
              "      </script>\n",
              "    </div>\n",
              "  </div>\n",
              "  "
            ]
          },
          "metadata": {},
          "execution_count": 11
        }
      ],
      "source": [
        "# место для кода\n",
        "#from google.colab import files\n",
        "#uploaded = files.upload()\n",
        "data = pd.read_csv('data.csv')\n",
        "data"
      ]
    },
    {
      "cell_type": "code",
      "source": [
        "data.describe()"
      ],
      "metadata": {
        "colab": {
          "base_uri": "https://localhost:8080/",
          "height": 364
        },
        "id": "KuPgsOY-XZDB",
        "outputId": "e706ed8d-825e-452d-c51c-d383dbcf26ba"
      },
      "execution_count": 12,
      "outputs": [
        {
          "output_type": "execute_result",
          "data": {
            "text/plain": [
              "              RefId      IsBadBuy       VehYear    VehicleAge   WheelTypeID  \\\n",
              "count  72983.000000  72983.000000  72983.000000  72983.000000  69814.000000   \n",
              "mean   36511.428497      0.122988   2005.343052      4.176644      1.494299   \n",
              "std    21077.241302      0.328425      1.731252      1.712210      0.521290   \n",
              "min        1.000000      0.000000   2001.000000      0.000000      0.000000   \n",
              "25%    18257.500000      0.000000   2004.000000      3.000000      1.000000   \n",
              "50%    36514.000000      0.000000   2005.000000      4.000000      1.000000   \n",
              "75%    54764.500000      0.000000   2007.000000      5.000000      2.000000   \n",
              "max    73014.000000      1.000000   2010.000000      9.000000      3.000000   \n",
              "\n",
              "              VehOdo  MMRAcquisitionAuctionAveragePrice  \\\n",
              "count   72983.000000                       72965.000000   \n",
              "mean    71499.995917                        6128.909217   \n",
              "std     14578.913128                        2461.992768   \n",
              "min      4825.000000                           0.000000   \n",
              "25%     61837.000000                        4273.000000   \n",
              "50%     73361.000000                        6097.000000   \n",
              "75%     82436.000000                        7765.000000   \n",
              "max    115717.000000                       35722.000000   \n",
              "\n",
              "       MMRAcquisitionAuctionCleanPrice  MMRAcquisitionRetailAveragePrice  \\\n",
              "count                     72965.000000                      72965.000000   \n",
              "mean                       7373.636031                       8497.034332   \n",
              "std                        2722.491986                       3156.285284   \n",
              "min                           0.000000                          0.000000   \n",
              "25%                        5406.000000                       6280.000000   \n",
              "50%                        7303.000000                       8444.000000   \n",
              "75%                        9021.000000                      10651.000000   \n",
              "max                       36859.000000                      39080.000000   \n",
              "\n",
              "       MMRAcquisitonRetailCleanPrice  MMRCurrentAuctionAveragePrice  \\\n",
              "count                   72965.000000                   72668.000000   \n",
              "mean                     9850.928240                    6132.081287   \n",
              "std                      3385.789541                    2434.567723   \n",
              "min                         0.000000                       0.000000   \n",
              "25%                      7493.000000                    4275.000000   \n",
              "50%                      9789.000000                    6062.000000   \n",
              "75%                     12088.000000                    7736.000000   \n",
              "max                     41482.000000                   35722.000000   \n",
              "\n",
              "       MMRCurrentAuctionCleanPrice  MMRCurrentRetailAveragePrice  \\\n",
              "count                 72668.000000                  72668.000000   \n",
              "mean                   7390.681827                   8775.723331   \n",
              "std                    2686.248852                   3090.702941   \n",
              "min                       0.000000                      0.000000   \n",
              "25%                    5414.000000                   6536.000000   \n",
              "50%                    7313.000000                   8729.000000   \n",
              "75%                    9013.000000                  10911.000000   \n",
              "max                   36859.000000                  39080.000000   \n",
              "\n",
              "       MMRCurrentRetailCleanPrice         BYRNO        VNZIP1      VehBCost  \\\n",
              "count                72668.000000  72983.000000  72983.000000  72983.000000   \n",
              "mean                 10145.385314  26345.842155  58043.059945   6730.934326   \n",
              "std                   3310.254351  25717.351219  26151.640415   1767.846435   \n",
              "min                      0.000000    835.000000   2764.000000      1.000000   \n",
              "25%                   7784.000000  17212.000000  32124.000000   5435.000000   \n",
              "50%                  10103.000000  19662.000000  73108.000000   6700.000000   \n",
              "75%                  12309.000000  22808.000000  80022.000000   7900.000000   \n",
              "max                  41062.000000  99761.000000  99224.000000  45469.000000   \n",
              "\n",
              "       IsOnlineSale  WarrantyCost  \n",
              "count  72983.000000  72983.000000  \n",
              "mean       0.025280   1276.580985  \n",
              "std        0.156975    598.846788  \n",
              "min        0.000000    462.000000  \n",
              "25%        0.000000    837.000000  \n",
              "50%        0.000000   1155.000000  \n",
              "75%        0.000000   1623.000000  \n",
              "max        1.000000   7498.000000  "
            ],
            "text/html": [
              "\n",
              "  <div id=\"df-06d0a2ca-b804-476d-8c7f-8168668fff1c\">\n",
              "    <div class=\"colab-df-container\">\n",
              "      <div>\n",
              "<style scoped>\n",
              "    .dataframe tbody tr th:only-of-type {\n",
              "        vertical-align: middle;\n",
              "    }\n",
              "\n",
              "    .dataframe tbody tr th {\n",
              "        vertical-align: top;\n",
              "    }\n",
              "\n",
              "    .dataframe thead th {\n",
              "        text-align: right;\n",
              "    }\n",
              "</style>\n",
              "<table border=\"1\" class=\"dataframe\">\n",
              "  <thead>\n",
              "    <tr style=\"text-align: right;\">\n",
              "      <th></th>\n",
              "      <th>RefId</th>\n",
              "      <th>IsBadBuy</th>\n",
              "      <th>VehYear</th>\n",
              "      <th>VehicleAge</th>\n",
              "      <th>WheelTypeID</th>\n",
              "      <th>VehOdo</th>\n",
              "      <th>MMRAcquisitionAuctionAveragePrice</th>\n",
              "      <th>MMRAcquisitionAuctionCleanPrice</th>\n",
              "      <th>MMRAcquisitionRetailAveragePrice</th>\n",
              "      <th>MMRAcquisitonRetailCleanPrice</th>\n",
              "      <th>MMRCurrentAuctionAveragePrice</th>\n",
              "      <th>MMRCurrentAuctionCleanPrice</th>\n",
              "      <th>MMRCurrentRetailAveragePrice</th>\n",
              "      <th>MMRCurrentRetailCleanPrice</th>\n",
              "      <th>BYRNO</th>\n",
              "      <th>VNZIP1</th>\n",
              "      <th>VehBCost</th>\n",
              "      <th>IsOnlineSale</th>\n",
              "      <th>WarrantyCost</th>\n",
              "    </tr>\n",
              "  </thead>\n",
              "  <tbody>\n",
              "    <tr>\n",
              "      <th>count</th>\n",
              "      <td>72983.000000</td>\n",
              "      <td>72983.000000</td>\n",
              "      <td>72983.000000</td>\n",
              "      <td>72983.000000</td>\n",
              "      <td>69814.000000</td>\n",
              "      <td>72983.000000</td>\n",
              "      <td>72965.000000</td>\n",
              "      <td>72965.000000</td>\n",
              "      <td>72965.000000</td>\n",
              "      <td>72965.000000</td>\n",
              "      <td>72668.000000</td>\n",
              "      <td>72668.000000</td>\n",
              "      <td>72668.000000</td>\n",
              "      <td>72668.000000</td>\n",
              "      <td>72983.000000</td>\n",
              "      <td>72983.000000</td>\n",
              "      <td>72983.000000</td>\n",
              "      <td>72983.000000</td>\n",
              "      <td>72983.000000</td>\n",
              "    </tr>\n",
              "    <tr>\n",
              "      <th>mean</th>\n",
              "      <td>36511.428497</td>\n",
              "      <td>0.122988</td>\n",
              "      <td>2005.343052</td>\n",
              "      <td>4.176644</td>\n",
              "      <td>1.494299</td>\n",
              "      <td>71499.995917</td>\n",
              "      <td>6128.909217</td>\n",
              "      <td>7373.636031</td>\n",
              "      <td>8497.034332</td>\n",
              "      <td>9850.928240</td>\n",
              "      <td>6132.081287</td>\n",
              "      <td>7390.681827</td>\n",
              "      <td>8775.723331</td>\n",
              "      <td>10145.385314</td>\n",
              "      <td>26345.842155</td>\n",
              "      <td>58043.059945</td>\n",
              "      <td>6730.934326</td>\n",
              "      <td>0.025280</td>\n",
              "      <td>1276.580985</td>\n",
              "    </tr>\n",
              "    <tr>\n",
              "      <th>std</th>\n",
              "      <td>21077.241302</td>\n",
              "      <td>0.328425</td>\n",
              "      <td>1.731252</td>\n",
              "      <td>1.712210</td>\n",
              "      <td>0.521290</td>\n",
              "      <td>14578.913128</td>\n",
              "      <td>2461.992768</td>\n",
              "      <td>2722.491986</td>\n",
              "      <td>3156.285284</td>\n",
              "      <td>3385.789541</td>\n",
              "      <td>2434.567723</td>\n",
              "      <td>2686.248852</td>\n",
              "      <td>3090.702941</td>\n",
              "      <td>3310.254351</td>\n",
              "      <td>25717.351219</td>\n",
              "      <td>26151.640415</td>\n",
              "      <td>1767.846435</td>\n",
              "      <td>0.156975</td>\n",
              "      <td>598.846788</td>\n",
              "    </tr>\n",
              "    <tr>\n",
              "      <th>min</th>\n",
              "      <td>1.000000</td>\n",
              "      <td>0.000000</td>\n",
              "      <td>2001.000000</td>\n",
              "      <td>0.000000</td>\n",
              "      <td>0.000000</td>\n",
              "      <td>4825.000000</td>\n",
              "      <td>0.000000</td>\n",
              "      <td>0.000000</td>\n",
              "      <td>0.000000</td>\n",
              "      <td>0.000000</td>\n",
              "      <td>0.000000</td>\n",
              "      <td>0.000000</td>\n",
              "      <td>0.000000</td>\n",
              "      <td>0.000000</td>\n",
              "      <td>835.000000</td>\n",
              "      <td>2764.000000</td>\n",
              "      <td>1.000000</td>\n",
              "      <td>0.000000</td>\n",
              "      <td>462.000000</td>\n",
              "    </tr>\n",
              "    <tr>\n",
              "      <th>25%</th>\n",
              "      <td>18257.500000</td>\n",
              "      <td>0.000000</td>\n",
              "      <td>2004.000000</td>\n",
              "      <td>3.000000</td>\n",
              "      <td>1.000000</td>\n",
              "      <td>61837.000000</td>\n",
              "      <td>4273.000000</td>\n",
              "      <td>5406.000000</td>\n",
              "      <td>6280.000000</td>\n",
              "      <td>7493.000000</td>\n",
              "      <td>4275.000000</td>\n",
              "      <td>5414.000000</td>\n",
              "      <td>6536.000000</td>\n",
              "      <td>7784.000000</td>\n",
              "      <td>17212.000000</td>\n",
              "      <td>32124.000000</td>\n",
              "      <td>5435.000000</td>\n",
              "      <td>0.000000</td>\n",
              "      <td>837.000000</td>\n",
              "    </tr>\n",
              "    <tr>\n",
              "      <th>50%</th>\n",
              "      <td>36514.000000</td>\n",
              "      <td>0.000000</td>\n",
              "      <td>2005.000000</td>\n",
              "      <td>4.000000</td>\n",
              "      <td>1.000000</td>\n",
              "      <td>73361.000000</td>\n",
              "      <td>6097.000000</td>\n",
              "      <td>7303.000000</td>\n",
              "      <td>8444.000000</td>\n",
              "      <td>9789.000000</td>\n",
              "      <td>6062.000000</td>\n",
              "      <td>7313.000000</td>\n",
              "      <td>8729.000000</td>\n",
              "      <td>10103.000000</td>\n",
              "      <td>19662.000000</td>\n",
              "      <td>73108.000000</td>\n",
              "      <td>6700.000000</td>\n",
              "      <td>0.000000</td>\n",
              "      <td>1155.000000</td>\n",
              "    </tr>\n",
              "    <tr>\n",
              "      <th>75%</th>\n",
              "      <td>54764.500000</td>\n",
              "      <td>0.000000</td>\n",
              "      <td>2007.000000</td>\n",
              "      <td>5.000000</td>\n",
              "      <td>2.000000</td>\n",
              "      <td>82436.000000</td>\n",
              "      <td>7765.000000</td>\n",
              "      <td>9021.000000</td>\n",
              "      <td>10651.000000</td>\n",
              "      <td>12088.000000</td>\n",
              "      <td>7736.000000</td>\n",
              "      <td>9013.000000</td>\n",
              "      <td>10911.000000</td>\n",
              "      <td>12309.000000</td>\n",
              "      <td>22808.000000</td>\n",
              "      <td>80022.000000</td>\n",
              "      <td>7900.000000</td>\n",
              "      <td>0.000000</td>\n",
              "      <td>1623.000000</td>\n",
              "    </tr>\n",
              "    <tr>\n",
              "      <th>max</th>\n",
              "      <td>73014.000000</td>\n",
              "      <td>1.000000</td>\n",
              "      <td>2010.000000</td>\n",
              "      <td>9.000000</td>\n",
              "      <td>3.000000</td>\n",
              "      <td>115717.000000</td>\n",
              "      <td>35722.000000</td>\n",
              "      <td>36859.000000</td>\n",
              "      <td>39080.000000</td>\n",
              "      <td>41482.000000</td>\n",
              "      <td>35722.000000</td>\n",
              "      <td>36859.000000</td>\n",
              "      <td>39080.000000</td>\n",
              "      <td>41062.000000</td>\n",
              "      <td>99761.000000</td>\n",
              "      <td>99224.000000</td>\n",
              "      <td>45469.000000</td>\n",
              "      <td>1.000000</td>\n",
              "      <td>7498.000000</td>\n",
              "    </tr>\n",
              "  </tbody>\n",
              "</table>\n",
              "</div>\n",
              "      <button class=\"colab-df-convert\" onclick=\"convertToInteractive('df-06d0a2ca-b804-476d-8c7f-8168668fff1c')\"\n",
              "              title=\"Convert this dataframe to an interactive table.\"\n",
              "              style=\"display:none;\">\n",
              "        \n",
              "  <svg xmlns=\"http://www.w3.org/2000/svg\" height=\"24px\"viewBox=\"0 0 24 24\"\n",
              "       width=\"24px\">\n",
              "    <path d=\"M0 0h24v24H0V0z\" fill=\"none\"/>\n",
              "    <path d=\"M18.56 5.44l.94 2.06.94-2.06 2.06-.94-2.06-.94-.94-2.06-.94 2.06-2.06.94zm-11 1L8.5 8.5l.94-2.06 2.06-.94-2.06-.94L8.5 2.5l-.94 2.06-2.06.94zm10 10l.94 2.06.94-2.06 2.06-.94-2.06-.94-.94-2.06-.94 2.06-2.06.94z\"/><path d=\"M17.41 7.96l-1.37-1.37c-.4-.4-.92-.59-1.43-.59-.52 0-1.04.2-1.43.59L10.3 9.45l-7.72 7.72c-.78.78-.78 2.05 0 2.83L4 21.41c.39.39.9.59 1.41.59.51 0 1.02-.2 1.41-.59l7.78-7.78 2.81-2.81c.8-.78.8-2.07 0-2.86zM5.41 20L4 18.59l7.72-7.72 1.47 1.35L5.41 20z\"/>\n",
              "  </svg>\n",
              "      </button>\n",
              "      \n",
              "  <style>\n",
              "    .colab-df-container {\n",
              "      display:flex;\n",
              "      flex-wrap:wrap;\n",
              "      gap: 12px;\n",
              "    }\n",
              "\n",
              "    .colab-df-convert {\n",
              "      background-color: #E8F0FE;\n",
              "      border: none;\n",
              "      border-radius: 50%;\n",
              "      cursor: pointer;\n",
              "      display: none;\n",
              "      fill: #1967D2;\n",
              "      height: 32px;\n",
              "      padding: 0 0 0 0;\n",
              "      width: 32px;\n",
              "    }\n",
              "\n",
              "    .colab-df-convert:hover {\n",
              "      background-color: #E2EBFA;\n",
              "      box-shadow: 0px 1px 2px rgba(60, 64, 67, 0.3), 0px 1px 3px 1px rgba(60, 64, 67, 0.15);\n",
              "      fill: #174EA6;\n",
              "    }\n",
              "\n",
              "    [theme=dark] .colab-df-convert {\n",
              "      background-color: #3B4455;\n",
              "      fill: #D2E3FC;\n",
              "    }\n",
              "\n",
              "    [theme=dark] .colab-df-convert:hover {\n",
              "      background-color: #434B5C;\n",
              "      box-shadow: 0px 1px 3px 1px rgba(0, 0, 0, 0.15);\n",
              "      filter: drop-shadow(0px 1px 2px rgba(0, 0, 0, 0.3));\n",
              "      fill: #FFFFFF;\n",
              "    }\n",
              "  </style>\n",
              "\n",
              "      <script>\n",
              "        const buttonEl =\n",
              "          document.querySelector('#df-06d0a2ca-b804-476d-8c7f-8168668fff1c button.colab-df-convert');\n",
              "        buttonEl.style.display =\n",
              "          google.colab.kernel.accessAllowed ? 'block' : 'none';\n",
              "\n",
              "        async function convertToInteractive(key) {\n",
              "          const element = document.querySelector('#df-06d0a2ca-b804-476d-8c7f-8168668fff1c');\n",
              "          const dataTable =\n",
              "            await google.colab.kernel.invokeFunction('convertToInteractive',\n",
              "                                                     [key], {});\n",
              "          if (!dataTable) return;\n",
              "\n",
              "          const docLinkHtml = 'Like what you see? Visit the ' +\n",
              "            '<a target=\"_blank\" href=https://colab.research.google.com/notebooks/data_table.ipynb>data table notebook</a>'\n",
              "            + ' to learn more about interactive tables.';\n",
              "          element.innerHTML = '';\n",
              "          dataTable['output_type'] = 'display_data';\n",
              "          await google.colab.output.renderOutput(dataTable, element);\n",
              "          const docLink = document.createElement('div');\n",
              "          docLink.innerHTML = docLinkHtml;\n",
              "          element.appendChild(docLink);\n",
              "        }\n",
              "      </script>\n",
              "    </div>\n",
              "  </div>\n",
              "  "
            ]
          },
          "metadata": {},
          "execution_count": 12
        }
      ]
    },
    {
      "cell_type": "markdown",
      "metadata": {
        "id": "bZRZ1JXzU1If"
      },
      "source": [
        "## 2\n",
        "\n",
        "Постройте график рассеяния с пробегом в качестве оси абсцисс и ценой `MMRCurrentRetailAveragePrice` в качестве оси ординат. Автомобили без недостатков отметьте зеленым цветом, со скрытыми недостатками — красным."
      ]
    },
    {
      "cell_type": "code",
      "execution_count": 13,
      "metadata": {
        "id": "fdISxL8kU1Ig"
      },
      "outputs": [],
      "source": [
        "%matplotlib inline\n",
        "import matplotlib.pyplot as plt"
      ]
    },
    {
      "cell_type": "code",
      "execution_count": 20,
      "metadata": {
        "colab": {
          "base_uri": "https://localhost:8080/",
          "height": 283
        },
        "id": "kXW6r0xPU1Ih",
        "outputId": "95190606-9af1-4507-fc32-ad401635b583"
      },
      "outputs": [
        {
          "output_type": "execute_result",
          "data": {
            "text/plain": [
              "[<matplotlib.lines.Line2D at 0x7f595f4b1d30>]"
            ]
          },
          "metadata": {},
          "execution_count": 20
        },
        {
          "output_type": "display_data",
          "data": {
            "text/plain": [
              "<Figure size 432x288 with 1 Axes>"
            ],
            "image/png": "[encoded data removed]"
          },
          "metadata": {
            "needs_background": "light"
          }
        }
      ],
      "source": [
        "# место для кода\n",
        "x=data[(data.IsBadBuy==1)].VehOdo\n",
        "y=data[(data.IsBadBuy==1)].MMRCurrentRetailAveragePrice\n",
        "plt.plot(x,y, color='red', ls=\"\", marker=\"*\")"
      ]
    },
    {
      "cell_type": "code",
      "source": [
        "x=data[(data.IsBadBuy==0)].VehOdo\n",
        "y=data[(data.IsBadBuy==0)].MMRCurrentRetailAveragePrice\n",
        "plt.plot(x,y, color='green',ls=\"\", marker=\"*\")"
      ],
      "metadata": {
        "colab": {
          "base_uri": "https://localhost:8080/",
          "height": 285
        },
        "id": "r99klGeyYNbw",
        "outputId": "465174e0-e6e8-4884-c384-85cc1bec9543"
      },
      "execution_count": 21,
      "outputs": [
        {
          "output_type": "execute_result",
          "data": {
            "text/plain": [
              "[<matplotlib.lines.Line2D at 0x7f595f6f9fa0>]"
            ]
          },
          "metadata": {},
          "execution_count": 21
        },
        {
          "output_type": "display_data",
          "data": {
            "text/plain": [
              "<Figure size 432x288 with 1 Axes>"
            ],
            "image/png": "[encoded data removed]"
          },
          "metadata": {
            "needs_background": "light"
          }
        }
      ]
    },
    {
      "cell_type": "markdown",
      "metadata": {
        "id": "DBgZIxmPU1Ii"
      },
      "source": [
        "# Регрессия"
      ]
    },
    {
      "cell_type": "markdown",
      "metadata": {
        "id": "SV2wBE_jU1Ii"
      },
      "source": [
        "## 3a\n",
        "\n",
        "Импортируйте из библиотеки `sklearn` все модели машинного обучения:\n",
        "\n",
        "`from sklearn import *`\n",
        "\n",
        "Трактуя задачу о предсказании наличия недостатков как задачу регрессии, натренируйте линейную модель [`LinearRegression`](https://scikit-learn.org/stable/modules/generated/sklearn.linear_model.LinearRegression.html) на каком-нибудь подмножестве признаков (например, тех же `VehOdo` и `MMRCurrentRetailAveragePrice`). \n",
        "\n",
        "С какой проблемой вы столкнулись? Какие способы ее решения вы можете предложить?\n",
        "\n",
        "*Функции, которые могут пригодиться при решении: `.fit(), .loc[], pd.notnull()`*\n",
        "\n",
        "*Создание модели:* `model1 = linear_model.LinearRegression()`\n",
        "\n",
        "*Тренировка:*\n",
        "`model1.fit(x, y)`\n",
        "\n"
      ]
    },
    {
      "cell_type": "code",
      "execution_count": 50,
      "metadata": {
        "colab": {
          "base_uri": "https://localhost:8080/",
          "height": 75
        },
        "id": "K9AQHuqZU1Ij",
        "outputId": "554a12d0-b0c3-4d1a-d4af-be02e6c25c25"
      },
      "outputs": [
        {
          "output_type": "execute_result",
          "data": {
            "text/plain": [
              "LinearRegression()"
            ],
            "text/html": [
              "<style>#sk-container-id-3 {color: black;background-color: white;}#sk-container-id-3 pre{padding: 0;}#sk-container-id-3 div.sk-toggleable {background-color: white;}#sk-container-id-3 label.sk-toggleable__label {cursor: pointer;display: block;width: 100%;margin-bottom: 0;padding: 0.3em;box-sizing: border-box;text-align: center;}#sk-container-id-3 label.sk-toggleable__label-arrow:before {content: \"▸\";float: left;margin-right: 0.25em;color: #696969;}#sk-container-id-3 label.sk-toggleable__label-arrow:hover:before {color: black;}#sk-container-id-3 div.sk-estimator:hover label.sk-toggleable__label-arrow:before {color: black;}#sk-container-id-3 div.sk-toggleable__content {max-height: 0;max-width: 0;overflow: hidden;text-align: left;background-color: #f0f8ff;}#sk-container-id-3 div.sk-toggleable__content pre {margin: 0.2em;color: black;border-radius: 0.25em;background-color: #f0f8ff;}#sk-container-id-3 input.sk-toggleable__control:checked~div.sk-toggleable__content {max-height: 200px;max-width: 100%;overflow: auto;}#sk-container-id-3 input.sk-toggleable__control:checked~label.sk-toggleable__label-arrow:before {content: \"▾\";}#sk-container-id-3 div.sk-estimator input.sk-toggleable__control:checked~label.sk-toggleable__label {background-color: #d4ebff;}#sk-container-id-3 div.sk-label input.sk-toggleable__control:checked~label.sk-toggleable__label {background-color: #d4ebff;}#sk-container-id-3 input.sk-hidden--visually {border: 0;clip: rect(1px 1px 1px 1px);clip: rect(1px, 1px, 1px, 1px);height: 1px;margin: -1px;overflow: hidden;padding: 0;position: absolute;width: 1px;}#sk-container-id-3 div.sk-estimator {font-family: monospace;background-color: #f0f8ff;border: 1px dotted black;border-radius: 0.25em;box-sizing: border-box;margin-bottom: 0.5em;}#sk-container-id-3 div.sk-estimator:hover {background-color: #d4ebff;}#sk-container-id-3 div.sk-parallel-item::after {content: \"\";width: 100%;border-bottom: 1px solid gray;flex-grow: 1;}#sk-container-id-3 div.sk-label:hover label.sk-toggleable__label {background-color: #d4ebff;}#sk-container-id-3 div.sk-serial::before {content: \"\";position: absolute;border-left: 1px solid gray;box-sizing: border-box;top: 0;bottom: 0;left: 50%;z-index: 0;}#sk-container-id-3 div.sk-serial {display: flex;flex-direction: column;align-items: center;background-color: white;padding-right: 0.2em;padding-left: 0.2em;position: relative;}#sk-container-id-3 div.sk-item {position: relative;z-index: 1;}#sk-container-id-3 div.sk-parallel {display: flex;align-items: stretch;justify-content: center;background-color: white;position: relative;}#sk-container-id-3 div.sk-item::before, #sk-container-id-3 div.sk-parallel-item::before {content: \"\";position: absolute;border-left: 1px solid gray;box-sizing: border-box;top: 0;bottom: 0;left: 50%;z-index: -1;}#sk-container-id-3 div.sk-parallel-item {display: flex;flex-direction: column;z-index: 1;position: relative;background-color: white;}#sk-container-id-3 div.sk-parallel-item:first-child::after {align-self: flex-end;width: 50%;}#sk-container-id-3 div.sk-parallel-item:last-child::after {align-self: flex-start;width: 50%;}#sk-container-id-3 div.sk-parallel-item:only-child::after {width: 0;}#sk-container-id-3 div.sk-dashed-wrapped {border: 1px dashed gray;margin: 0 0.4em 0.5em 0.4em;box-sizing: border-box;padding-bottom: 0.4em;background-color: white;}#sk-container-id-3 div.sk-label label {font-family: monospace;font-weight: bold;display: inline-block;line-height: 1.2em;}#sk-container-id-3 div.sk-label-container {text-align: center;}#sk-container-id-3 div.sk-container {/* jupyter's `normalize.less` sets `[hidden] { display: none; }` but bootstrap.min.css set `[hidden] { display: none !important; }` so we also need the `!important` here to be able to override the default hidden behavior on the sphinx rendered scikit-learn.org. See: https://github.com/scikit-learn/scikit-learn/issues/21755 */display: inline-block !important;position: relative;}#sk-container-id-3 div.sk-text-repr-fallback {display: none;}</style><div id=\"sk-container-id-3\" class=\"sk-top-container\"><div class=\"sk-text-repr-fallback\"><pre>LinearRegression()</pre><b>In a Jupyter environment, please rerun this cell to show the HTML representation or trust the notebook. <br />On GitHub, the HTML representation is unable to render, please try loading this page with nbviewer.org.</b></div><div class=\"sk-container\" hidden><div class=\"sk-item\"><div class=\"sk-estimator sk-toggleable\"><input class=\"sk-toggleable__control sk-hidden--visually\" id=\"sk-estimator-id-3\" type=\"checkbox\" checked><label for=\"sk-estimator-id-3\" class=\"sk-toggleable__label sk-toggleable__label-arrow\">LinearRegression</label><div class=\"sk-toggleable__content\"><pre>LinearRegression()</pre></div></div></div></div></div>"
            ]
          },
          "metadata": {},
          "execution_count": 50
        }
      ],
      "source": [
        "# место для кода\n",
        "from sklearn import *\n",
        "model1 = linear_model.LinearRegression()\n",
        "data1=data[['VehOdo','VehicleAge','IsBadBuy']].dropna()\n",
        "x=data1[['VehOdo' , 'VehicleAge']]\n",
        "y=data1['IsBadBuy']\n",
        "model1.fit(x,y)"
      ]
    },
    {
      "cell_type": "markdown",
      "metadata": {
        "id": "tzvK2dBoU1Ij"
      },
      "source": [
        "## 3b\n",
        "\n",
        "Выполните предсказание для всех объектов обучающей выборки и присвойте результат переменной prediction\n",
        "\n",
        "*Функции, которые могут пригодиться при решении: `model.predict()`*"
      ]
    },
    {
      "cell_type": "code",
      "execution_count": 51,
      "metadata": {
        "id": "qwC57ItBU1Ij"
      },
      "outputs": [],
      "source": [
        "# место для кода\n",
        "predictions = model1.predict(x)"
      ]
    },
    {
      "cell_type": "markdown",
      "metadata": {
        "id": "NdcOplGtU1Ik"
      },
      "source": [
        "## 3c\n",
        "\n",
        "Преобразуйте получившийся вектор предсказаний `prediction` к значениям `{0,1}`. Это можно сделать, например, используя list comprehensions: https://docs.python.org/3/tutorial/datastructures.html#list-comprehensions \n",
        "\n",
        "`predictionClass = [1 if prediction[i] > 0.5 else 0 for i in range(prediction.shape[0])]`"
      ]
    },
    {
      "cell_type": "code",
      "execution_count": 52,
      "metadata": {
        "id": "vNDQqVyCU1Ik"
      },
      "outputs": [],
      "source": [
        "# место для кода\n",
        "predictionClass = [1 if predictions[i] > 0.5 else 0 for i in range(predictions.shape[0])]\n",
        "predictionClass2 = [1 if predictions[i] > 0.2 else 0 for i in range(predictions.shape[0])]"
      ]
    },
    {
      "cell_type": "markdown",
      "metadata": {
        "id": "KubGMhdaU1Il"
      },
      "source": [
        "## 3d\n",
        "\n",
        "Постройте отчет по качеству классификации и матрицу ошибок. Как изменятся отчет и матрица ошибок, если изменить порог в задании 3c (по умолчанию его значение равно 0.5)?\n",
        "\n",
        "*Функции, которые могут пригодиться при решении: `print(metrics.classification_report(...))`, `print(metrics.confusion_matrix(...))`*\n",
        "\n",
        "Функция classification_report для каждого класса объектов считает точность (precision) в этом классе и полноту (recall). Полнота - это процент объектов данного класса, которые ваш метод предсказания тоже отнес к этому классу, среди всех объектов данного класса. Точность (precision) - то же самое, только среди всех объектов, предсказанных для этого класса.\n",
        "\n",
        "Функция confusion_matrix возвращает матрицу с количествами объектов. Номера столбцов матрицы - это номера предсказанных классов, строки - это номера правильных классов. Например, элемент M[0,1] - это количество машин, где на самом деле IsBadBuy = 0, а вы предсказали 1."
      ]
    },
    {
      "cell_type": "code",
      "execution_count": 53,
      "metadata": {
        "colab": {
          "base_uri": "https://localhost:8080/"
        },
        "id": "T1kqyafBU1Il",
        "outputId": "6bc0dcf9-1d56-4b96-de6d-90a8672f2336"
      },
      "outputs": [
        {
          "output_type": "stream",
          "name": "stdout",
          "text": [
            "              precision    recall  f1-score   support\n",
            "\n",
            "           0       0.88      1.00      0.93     64007\n",
            "           1       0.00      0.00      0.00      8976\n",
            "\n",
            "    accuracy                           0.88     72983\n",
            "   macro avg       0.44      0.50      0.47     72983\n",
            "weighted avg       0.77      0.88      0.82     72983\n",
            "\n",
            "[[64007     0]\n",
            " [ 8976     0]]\n"
          ]
        },
        {
          "output_type": "stream",
          "name": "stderr",
          "text": [
            "/usr/local/lib/python3.9/dist-packages/sklearn/metrics/_classification.py:1344: UndefinedMetricWarning: Precision and F-score are ill-defined and being set to 0.0 in labels with no predicted samples. Use `zero_division` parameter to control this behavior.\n",
            "  _warn_prf(average, modifier, msg_start, len(result))\n",
            "/usr/local/lib/python3.9/dist-packages/sklearn/metrics/_classification.py:1344: UndefinedMetricWarning: Precision and F-score are ill-defined and being set to 0.0 in labels with no predicted samples. Use `zero_division` parameter to control this behavior.\n",
            "  _warn_prf(average, modifier, msg_start, len(result))\n",
            "/usr/local/lib/python3.9/dist-packages/sklearn/metrics/_classification.py:1344: UndefinedMetricWarning: Precision and F-score are ill-defined and being set to 0.0 in labels with no predicted samples. Use `zero_division` parameter to control this behavior.\n",
            "  _warn_prf(average, modifier, msg_start, len(result))\n"
          ]
        }
      ],
      "source": [
        "# место для кода\n",
        "from sklearn.metrics import confusion_matrix, classification_report\n",
        "print(metrics.classification_report(y, predictionClass))\n",
        "print(confusion_matrix (y, predictionClass))"
      ]
    },
    {
      "cell_type": "code",
      "source": [
        "print(metrics.classification_report(y, predictionClass2))\n",
        "print(confusion_matrix (y, predictionClass2))"
      ],
      "metadata": {
        "colab": {
          "base_uri": "https://localhost:8080/"
        },
        "id": "EIo0PxaYbwa2",
        "outputId": "54c37187-db5f-4dfe-e39e-3be8f16c4835"
      },
      "execution_count": 54,
      "outputs": [
        {
          "output_type": "stream",
          "name": "stdout",
          "text": [
            "              precision    recall  f1-score   support\n",
            "\n",
            "           0       0.89      0.92      0.90     64007\n",
            "           1       0.25      0.20      0.22      8976\n",
            "\n",
            "    accuracy                           0.83     72983\n",
            "   macro avg       0.57      0.56      0.56     72983\n",
            "weighted avg       0.81      0.83      0.82     72983\n",
            "\n",
            "[[58740  5267]\n",
            " [ 7225  1751]]\n"
          ]
        }
      ]
    },
    {
      "cell_type": "markdown",
      "metadata": {
        "id": "ES0RLa-TU1Im"
      },
      "source": [
        "# Классификация\n",
        "\n",
        "## 4a\n",
        "Трактуя задачу как задачу классификации, постройте модель классификации «решающее дерево» глубины 20  (все аналогично линейной регрессии).\n",
        "\n",
        "\n",
        "*Функции, которые могут пригодиться при решении: `tree.DecisionTreeClassifier(max_depth=20) `*"
      ]
    },
    {
      "cell_type": "code",
      "execution_count": 60,
      "metadata": {
        "id": "jaw48g9hU1In"
      },
      "outputs": [],
      "source": [
        "# место для кода\n",
        "model2 = tree.DecisionTreeClassifier(max_depth=20)\n",
        "model2.fit(x,y)\n",
        "prediction_tree=model2.predict(x)"
      ]
    },
    {
      "cell_type": "markdown",
      "metadata": {
        "id": "zDHv3agTU1In"
      },
      "source": [
        "## 4b\n",
        "\n",
        "Решающее дерево предсказывает вероятности. С помощью построенной модели рассчитайте вероятности наличия скрываемых недостатков.\n",
        "\n",
        "*Функции, которые могут пригодиться при решении: `model.predict_proba() `*"
      ]
    },
    {
      "cell_type": "code",
      "execution_count": 56,
      "metadata": {
        "id": "0Y5vbE7EU1Io"
      },
      "outputs": [],
      "source": [
        "# место для кода\n",
        "predict = model2.predict_proba(x)"
      ]
    },
    {
      "cell_type": "markdown",
      "metadata": {
        "id": "VIhuk9meU1Io"
      },
      "source": [
        "## 4c\n",
        "\n",
        "Преобразуйте получившийся вектор предсказаний `prediction` к значениям `{0,1}`. Постройте отчет о классификации и матрицу ошибок. Какой метод оказался лучше?"
      ]
    },
    {
      "cell_type": "code",
      "execution_count": 65,
      "metadata": {
        "colab": {
          "base_uri": "https://localhost:8080/"
        },
        "id": "BwbqoLWdU1Io",
        "outputId": "9675c7e5-76cf-419e-cb65-a163dcb8f7f0"
      },
      "outputs": [
        {
          "output_type": "stream",
          "name": "stdout",
          "text": [
            "              precision    recall  f1-score   support\n",
            "\n",
            "           0       0.90      1.00      0.95     64007\n",
            "           1       0.96      0.20      0.33      8976\n",
            "\n",
            "    accuracy                           0.90     72983\n",
            "   macro avg       0.93      0.60      0.64     72983\n",
            "weighted avg       0.91      0.90      0.87     72983\n",
            "\n",
            "[[63923    84]\n",
            " [ 7184  1792]]\n"
          ]
        }
      ],
      "source": [
        "# место для кода\n",
        "predictionClass3 = [1 if prediction_tree[i] > 0.5 else 0 for i in range(prediction_tree.shape[0])]\n",
        "print(classification_report(y, predictionClass3))\n",
        "print(confusion_matrix(y, predictionClass3))"
      ]
    },
    {
      "cell_type": "markdown",
      "metadata": {
        "id": "OJNogVFCU1Io"
      },
      "source": [
        "# Кросс-валидация\n",
        "## 5a\n",
        "\n",
        "\n",
        "Разделите исходную выборку на две части, например, используя [slices](https://pythonz.net/references/named/slice/):\n",
        "\n",
        "`dataTrain = data.loc[0:34999,]\n",
        "dataTest = data.loc[35000:69999,]`"
      ]
    },
    {
      "cell_type": "code",
      "execution_count": 90,
      "metadata": {
        "id": "elzVmlE3U1Ip"
      },
      "outputs": [],
      "source": [
        "# место для кода\n",
        "from sklearn.model_selection import train_test_split\n",
        "x_test, x_train, y_test, y_train=train_test_split(x,y,test_size=0.5)"
      ]
    },
    {
      "cell_type": "markdown",
      "metadata": {
        "id": "kCz9voHWU1Ip"
      },
      "source": [
        "## 5b\n",
        "\n",
        "Натренируйте решающее дерево на  `dataTrain` и примените к  `dataTrain` и dataTest, вычислив для каждого случая точность предсказания. \n",
        "\n",
        "Проведите несколько экспериментов для различных глубин дерева. Напишите в комментариях, для каких глубин модель недообучена, для каких переобучена и где точка раннего останова.\n",
        "\n",
        "*Функции, которые могут пригодиться при решении: `metrics.accuracy_score() `*"
      ]
    },
    {
      "cell_type": "code",
      "execution_count": 95,
      "metadata": {
        "colab": {
          "base_uri": "https://localhost:8080/"
        },
        "id": "seyAn8RkU1Ip",
        "outputId": "c81ab8d7-0d0d-4668-fd2a-e1e60179734a"
      },
      "outputs": [
        {
          "output_type": "stream",
          "name": "stdout",
          "text": [
            "0.882659212978187\n"
          ]
        }
      ],
      "source": [
        "# место для кода\n",
        "from sklearn.metrics import accuracy_score\n",
        "from sklearn.tree import DecisionTreeClassifier\n",
        "\n",
        "model3=DecisionTreeClassifier(max_depth=10)\n",
        "model3.fit(x_train,y_train)\n",
        "prediction_tr=model3.predict(x_train)\n",
        "\n",
        "predictionClass4 = [1 if prediction_tr[i] > 0.5 else 0 for i in range(prediction_tr.shape[0])]\n",
        "print(accuracy_score(y_train, predictionClass4, sample_weight=None))"
      ]
    },
    {
      "cell_type": "code",
      "source": [
        "from sklearn.metrics import accuracy_score\n",
        "from sklearn.tree import DecisionTreeClassifier\n",
        "\n",
        "model3=DecisionTreeClassifier(max_depth=5)\n",
        "model3.fit(x_train,y_train)\n",
        "prediction_tr=model3.predict(x_train)\n",
        "\n",
        "predictionClass4 = [1 if prediction_tr[i] > 0.5 else 0 for i in range(prediction_tr.shape[0])]\n",
        "print(accuracy_score(y_train, predictionClass4, sample_weight=None))"
      ],
      "metadata": {
        "colab": {
          "base_uri": "https://localhost:8080/"
        },
        "id": "m5_NDU4uyHL4",
        "outputId": "a084eaf4-c54b-4738-9d62-c1798c5bd9ae"
      },
      "execution_count": 96,
      "outputs": [
        {
          "output_type": "stream",
          "name": "stdout",
          "text": [
            "0.8773703825495999\n"
          ]
        }
      ]
    },
    {
      "cell_type": "code",
      "source": [
        "from sklearn.metrics import accuracy_score\n",
        "from sklearn.tree import DecisionTreeClassifier\n",
        "\n",
        "model3=DecisionTreeClassifier(max_depth=1)\n",
        "model3.fit(x_train,y_train)\n",
        "prediction_tr=model3.predict(x_train)\n",
        "\n",
        "predictionClass4 = [1 if prediction_tr[i] > 0.5 else 0 for i in range(prediction_tr.shape[0])]\n",
        "print(accuracy_score(y_train, predictionClass4, sample_weight=None))"
      ],
      "metadata": {
        "colab": {
          "base_uri": "https://localhost:8080/"
        },
        "id": "IPTEMaX2yKqW",
        "outputId": "c01602f2-3cd0-46aa-8a46-e279a6c32773"
      },
      "execution_count": 97,
      "outputs": [
        {
          "output_type": "stream",
          "name": "stdout",
          "text": [
            "0.8769593335525595\n"
          ]
        }
      ]
    },
    {
      "cell_type": "code",
      "source": [
        "from sklearn.metrics import accuracy_score\n",
        "from sklearn.tree import DecisionTreeClassifier\n",
        "\n",
        "model3=DecisionTreeClassifier(max_depth=30)\n",
        "model3.fit(x_train,y_train)\n",
        "prediction_tr=model3.predict(x_train)\n",
        "\n",
        "predictionClass4 = [1 if prediction_tr[i] > 0.5 else 0 for i in range(prediction_tr.shape[0])]\n",
        "print(accuracy_score(y_train, predictionClass4, sample_weight=None))"
      ],
      "metadata": {
        "colab": {
          "base_uri": "https://localhost:8080/"
        },
        "id": "yQL2TAWwyNRQ",
        "outputId": "43382c02-f460-4ff8-ddd2-72194c5a7eee"
      },
      "execution_count": 98,
      "outputs": [
        {
          "output_type": "stream",
          "name": "stdout",
          "text": [
            "0.957141291241916\n"
          ]
        }
      ]
    },
    {
      "cell_type": "markdown",
      "metadata": {
        "id": "NoyKWVLkU1Ip"
      },
      "source": [
        "# Решающая функция\n",
        "## 6a\n",
        "\n",
        "Вернемся к модели решающего дерева глубины 20, построенного по всей обучающей выборке `data`. Пусть цена ошибки неправильного предсказания 0 равна 1000, а неправильного предсказания 1 — 100.\n",
        "\n",
        "Вычислите функцию потерь &mdash; среднюю ошибку на всей обучающей выборке."
      ]
    },
    {
      "cell_type": "code",
      "execution_count": 108,
      "metadata": {
        "colab": {
          "base_uri": "https://localhost:8080/"
        },
        "id": "nAD6IVMdU1Ip",
        "outputId": "317ea715-c0cc-4b22-c4b6-4b538d2f048c"
      },
      "outputs": [
        {
          "output_type": "stream",
          "name": "stdout",
          "text": [
            "82.54137893236874\n"
          ]
        }
      ],
      "source": [
        "# место для кода\n",
        "model4=DecisionTreeClassifier(max_depth=20)\n",
        "model4.fit(x_train,y_train)\n",
        "\n",
        "prediction_tre=model4.predict(x_train)\n",
        "predictionClass4 = [1 if prediction_tre[i] > 0.5 else 0 for i in range(prediction_tre.shape[0])]\n",
        "N=confusion_matrix (y_train, predictionClass4)\n",
        "print((N[0,1]*100+N[1,0]*1000)/len(y_train))"
      ]
    },
    {
      "cell_type": "markdown",
      "metadata": {
        "id": "A3Y92tbcU1Ip"
      },
      "source": [
        "## 6b\n",
        "\n",
        "Выясните, как нужно изменить решающую функцию `[0 if predictionProb[i][0] > 0.5 else 1 for i in range(prediction.shape[0])]`, чтобы функция потерь была минимальна?\n",
        "\n",
        "Найдите оптимальную решающую функцию и минимальное значение функционала потерь методом подбора или пользуясь формулой из лекции 2 (слайд Decision function).\n",
        "\n"
      ]
    },
    {
      "cell_type": "code",
      "execution_count": 106,
      "metadata": {
        "colab": {
          "base_uri": "https://localhost:8080/"
        },
        "id": "gkcrD2uYU1Iq",
        "outputId": "3a2f901a-2be8-4322-e041-8f1898c998cc"
      },
      "outputs": [
        {
          "output_type": "stream",
          "name": "stdout",
          "text": [
            "range  0.0\n",
            "82.54411925901567\n",
            "range  0.03\n",
            "82.54137893236874\n",
            "range  0.06\n",
            "82.54137893236874\n",
            "range  0.09\n",
            "82.54137893236874\n",
            "range  0.12\n",
            "82.54137893236874\n",
            "range  0.15\n",
            "82.54137893236874\n",
            "range  0.18\n",
            "82.54411925901567\n",
            "range  0.21\n",
            "82.54411925901567\n",
            "range  0.24\n",
            "82.54137893236874\n",
            "range  0.27\n",
            "82.54411925901567\n",
            "range  0.3\n",
            "82.54137893236874\n",
            "range  0.33\n",
            "82.54411925901567\n",
            "range  0.36\n",
            "82.54137893236874\n",
            "range  0.39\n",
            "82.54137893236874\n",
            "range  0.42\n",
            "82.54411925901567\n",
            "range  0.45\n",
            "82.54137893236874\n",
            "range  0.48\n",
            "82.54137893236874\n",
            "range  0.51\n",
            "82.54137893236874\n",
            "range  0.54\n",
            "82.54137893236874\n",
            "range  0.57\n",
            "82.54137893236874\n",
            "range  0.6\n",
            "82.54411925901567\n",
            "range  0.63\n",
            "82.54411925901567\n",
            "range  0.66\n",
            "82.54411925901567\n",
            "range  0.69\n",
            "82.54137893236874\n",
            "range  0.72\n",
            "82.54137893236874\n",
            "range  0.75\n",
            "82.54411925901567\n",
            "range  0.78\n",
            "82.54137893236874\n",
            "range  0.81\n",
            "82.54137893236874\n",
            "range  0.84\n",
            "82.54137893236874\n",
            "range  0.87\n",
            "82.54411925901567\n",
            "range  0.9\n",
            "82.54137893236874\n",
            "range  0.93\n",
            "82.54137893236874\n",
            "range  0.96\n",
            "82.54411925901567\n",
            "range  0.99\n",
            "82.54411925901567\n"
          ]
        }
      ],
      "source": [
        "# место для кода\n",
        "for j in range(0,100,3):\n",
        "  print (\"range \",j/100)\n",
        "  model4=DecisionTreeClassifier(max_depth=20)\n",
        "  model4.fit(x_train,y_train)\n",
        "  prediction_tre=model4.predict(x_train)\n",
        "  predictionClass4 = [1 if prediction_tre[i] > j/100 else 0 for i in range(prediction_tre.shape[0])]\n",
        "  N=confusion_matrix (y_train, predictionClass4)\n",
        "  print((N[0,1]*100+N[1,0]*1000)/len(y_train))"
      ]
    }
  ],
  "metadata": {
    "kernelspec": {
      "display_name": "Python 3 (ipykernel)",
      "language": "python",
      "name": "python3"
    },
    "language_info": {
      "codemirror_mode": {
        "name": "ipython",
        "version": 3
      },
      "file_extension": ".py",
      "mimetype": "text/x-python",
      "name": "python",
      "nbconvert_exporter": "python",
      "pygments_lexer": "ipython3",
      "version": "3.9.15"
    },
    "colab": {
      "provenance": []
    }
  },
  "nbformat": 4,
  "nbformat_minor": 0
}