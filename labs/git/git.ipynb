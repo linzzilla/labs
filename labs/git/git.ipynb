{
  "cells": [
    {
      "cell_type": "markdown",
      "id": "1df4915b",
      "metadata": {
        "tags": [],
        "id": "1df4915b"
      },
      "source": [
        "![zebrains_logo](../../images/logo-zebrains-dark.svg)\n",
        "## Кафедра «Интеллектуальных технологий в информационных системах»"
      ]
    },
    {
      "cell_type": "markdown",
      "id": "60f5fce6",
      "metadata": {
        "id": "60f5fce6"
      },
      "source": [
        "# Лабораторная работа 1: Git, Git LFS"
      ]
    },
    {
      "cell_type": "code",
      "execution_count": null,
      "id": "e9dbea14-7a50-49f9-9c34-5e2e897d6964",
      "metadata": {
        "jupyter": {
          "source_hidden": true
        },
        "tags": [],
        "id": "e9dbea14-7a50-49f9-9c34-5e2e897d6964"
      },
      "outputs": [],
      "source": [
        "#imports\n",
        "!pip install ipywidgets==7.6.4 --quiet\n",
        "from ipywidgets import FileUpload, Image, HBox"
      ]
    },
    {
      "cell_type": "markdown",
      "id": "a426e5cd",
      "metadata": {
        "id": "a426e5cd"
      },
      "source": [
        "В данной лабораторной работе вы научитесь пользоваться:\n",
        "* Системой контроля версий (VCS - version control system) **Git**\n",
        "* Расширением **Git LFS** (Large File Storage), позволяющее версионировать большие файлы вместе с кодом"
      ]
    },
    {
      "cell_type": "markdown",
      "id": "f8db50f9",
      "metadata": {
        "id": "f8db50f9"
      },
      "source": [
        "# Git\n",
        "![git_logo](../../images/Git_icon.svg)"
      ]
    },
    {
      "cell_type": "markdown",
      "id": "bfeaa239",
      "metadata": {
        "id": "bfeaa239"
      },
      "source": [
        "**Git** – это распределенная система контроля версий (version control system – VCS).\n",
        "\n",
        "**Контроль версий** означает что вы храните все версии редактируемых документов и можете вернуться к любой сохраненной версии в любой момент времени. Кажется, будто такой подход популярен только среди программистов, но на деле им пользуются, например, дизайнеры и другие люди, несколько более подкованные технически, чтобы контролировать изменения в работе.\n",
        "\n",
        "**Распределенность** git’а отличает его от прочих vcs. Под распределенностью следует понимать, буквально, возможность использования одной системы контроля на проекте множеством разработчиков."
      ]
    },
    {
      "cell_type": "markdown",
      "id": "ae4e43c1",
      "metadata": {
        "id": "ae4e43c1"
      },
      "source": [
        "*В папке с лабой вы найдете .pdf с основными командами.*\n",
        "\n",
        "*Можно было бы в удобном виде оставить список команд в этом ноутбуке, а потом просто копировать их в консоль. Но в целях лучшего запоминания лучше вводить эти команды самим.*"
      ]
    },
    {
      "cell_type": "markdown",
      "id": "05930ee6",
      "metadata": {
        "id": "05930ee6"
      },
      "source": [
        "## Задание:\n",
        "**Пройти уроки с сайта https://learngitbranching.js.org/?locale=ru_RU**\n",
        "\n",
        "Если застряли на каком-то уроке - можете воспользоваться pdf шпаргалкой.\n",
        "\n",
        "Не оставляйте выполнение это лабораторной на потом. Почти все остальные лабораторные потребуют от вас знаний Git'а. \n",
        "\n",
        "У вас будут совместные проекты, где потребуется версионировать изменения. Если вы будете вести историю репозитория не аккуратно, писать сообщения к комитам от балды и т.п. - это усложнит работу как вам, так и остальным членам команды. \n",
        "\n",
        "Старайтесь вести историю в Гите так, будто завтра же уходите в отпуск, оставляя свою работу коллегам."
      ]
    },
    {
      "cell_type": "markdown",
      "id": "3ee47f38-8e53-4218-a25c-0d6d273fc3f5",
      "metadata": {
        "id": "3ee47f38-8e53-4218-a25c-0d6d273fc3f5"
      },
      "source": [
        "**Отчет**\n",
        "\n",
        "Прикрепите следующие скриншоты прямо внутри ноутбука.\n",
        "\n",
        "1. Результат команды\n",
        "``` bash\n",
        "conda list\n",
        "```\n",
        "![](../../images/1.jpg)\n",
        "\n",
        "2. Результат команды\n",
        "``` bash\n",
        "git branch -a\n",
        "```\n",
        "\n",
        "\n",
        "3. Результат команды\n",
        "``` bash\n",
        "git remote show origin\n",
        "```\n",
        "![](../../images/2.jpg)\n",
        "\n",
        "4. Скриншоты двух страниц с сайта *learngitbranching.js.org*. (Когда вы проходите урок - ячейка окрашивается)\n",
        "![](../../images/3.jpg)\n",
        "\n",
        "![](../../images/4.jpg)"
      ]
    },
    {
      "cell_type": "markdown",
      "id": "b2976ed3-524b-4b70-b9e5-710126101334",
      "metadata": {
        "pycharm": {
          "name": "#%% md\n"
        },
        "id": "b2976ed3-524b-4b70-b9e5-710126101334"
      },
      "source": [
        "## Прикрепите свои скриншоты, изменив путь.\n",
        "Не забудьте добавить скриншоты в гит, что бы они отобразились на сайте\n",
        "Отредактируйте строчку ниже:\n"
      ]
    },
    {
      "cell_type": "markdown",
      "id": "2ebf182a",
      "metadata": {
        "tags": [],
        "id": "2ebf182a"
      },
      "source": [
        "## Полезные ссылки\n",
        "* https://githowto.com/ru Еще один интерактивный курс. Проходить не обязательно. Но для закрепления желательно.\n",
        "* https://git-scm.com/book/ru/v2 Git Book на русском"
      ]
    },
    {
      "cell_type": "markdown",
      "id": "3da52f0a",
      "metadata": {
        "id": "3da52f0a"
      },
      "source": [
        "# Git LFS\n",
        "![git_logo](https://avatars.githubusercontent.com/u/20246716?s=200&v=4)"
      ]
    },
    {
      "cell_type": "markdown",
      "id": "cea27de1",
      "metadata": {
        "id": "cea27de1"
      },
      "source": [
        "**Git LFS** - это расширение для Git'а, позволяющее версионировать большие данные. Данные хранятся и версионируются вместе с кодом.\n",
        "\n",
        "Подробнее можете прочитать здесь:\n",
        "* https://git-lfs.github.com/\n",
        "* https://www.atlassian.com/git/tutorials/git-lfs"
      ]
    },
    {
      "cell_type": "markdown",
      "id": "ce814f1c",
      "metadata": {
        "id": "ce814f1c"
      },
      "source": [
        "<a id='git_lfs_cell'></a>\n",
        "<img src=\"../../images/git_lfs.gif\" alt=\"drawing\" width=\"600\"/>"
      ]
    },
    {
      "cell_type": "markdown",
      "id": "41e711bd",
      "metadata": {
        "id": "41e711bd"
      },
      "source": [
        "Не все хостинги поддерживают Git LFS. \n",
        "Для удобства мы пока будем использовать Github. Возможно, следующие лабы будут на Gitlab'е. Там больше квота для хранения данных."
      ]
    },
    {
      "cell_type": "markdown",
      "id": "26ecf411",
      "metadata": {
        "id": "26ecf411"
      },
      "source": [
        "## Задание\n",
        "**Залейте на удаленнный репозиторий изменения, используя Git LFS для индексации больших данных**\n",
        "1. Установите git-lfs. Например, используя менеджер пакетов в Ubuntu\\Deb: \n",
        "```bash\n",
        "sudo apt-get install git-lfs\n",
        "```\n",
        "2. Запустите следующую команду. Ее потребуется запустить лишь однажды, для каждого юзера в системе. \n",
        "```bashlearngitbranching.js.org\n",
        "git lfs install\n",
        "```\n",
        "3. Создайте репозиторий или перейдите в уже готовый.\n",
        "Если у вас нет \"большого\" файла для теста - можете создать файл(ы) фиксированного размера с помощью команды:\n",
        "```bash\n",
        "truncate -s 10M ten_megabyte_file.txt\n",
        "```\n",
        "4. Теперь нужно создать правило для слежения за большими файлами. Например, мы тренируем нейронку и храним картинки\\звук\\таблички и т.п. в папке Data. Тогда пропишем\n",
        "```bash\n",
        "git lfs track Data\n",
        "```\n",
        "Или мы знаем, что все наши таблички с данными будут в формате CSV. В таком случае можно использовать такую команду:\n",
        "```bash\n",
        "git lfs track \"*.csv\"\n",
        "```\n",
        "5. Убедитесь, что ваши большие данные не были предварительно исключены из индексации Гитом в файле .gitignore\n",
        "```bash\n",
        "git check-ignore -v *\n",
        "```\n",
        "Если вы видите правило, которое заставляет Гит игнорировать ваши большие данные - отредактируйте файл.\n",
        "\n",
        "6. Убедимся, что файл с правилами для Git LFS индексируется. Добавим его.\n",
        "```bash\n",
        "git add .gitattributes\n",
        "```\n",
        "7. Теперь всё готово. Просто работайте с файлами так, как это делали раньше. Например:\n",
        "```bash\n",
        "git add Data\n",
        "git commit -m \"added Data\"\n",
        "git push\n",
        "```"
      ]
    },
    {
      "cell_type": "markdown",
      "id": "368d5395-7def-4661-9c86-cadc22ef3b25",
      "metadata": {
        "pycharm": {
          "name": "#%% md\n"
        },
        "id": "368d5395-7def-4661-9c86-cadc22ef3b25"
      },
      "source": [
        "**Отчет**\n",
        "\n",
        "Прикрепите следующие скриншоты прямо внутри ноутбука.\n",
        "\n",
        "1. Результат команды\n",
        "``` bash\n",
        "git lfs status\n",
        "```\n",
        "![](../../images/6.jpg)\n",
        "\n",
        "2. Результат команды\n",
        "``` bash\n",
        "git lfs ls-files --all\n",
        "```\n",
        "![](../../images/7.jpg)\n",
        "\n",
        "3. Самостоятельно удалить большой файл и запушить изменения\n",
        "![](../../images/8.jpg)\n",
        "\n",
        "4. Удалить правила для ЛФС, которые мы создавали (P.S. команда untrack)\n",
        "![](../../images/11.jpg)\n",
        "\n",
        "5. Результат команды\n",
        "``` bash\n",
        "git lfs status\n",
        "```\n",
        "![](../../images/12.jpg)\n",
        "\n",
        "6. Результат команды\n",
        "``` bash\n",
        "git lfs ls-files --all\n",
        "```\n",
        "![](../../images/10.jpg)\n",
        "\n",
        "И запушьте изменения."
      ]
    },
    {
      "cell_type": "markdown",
      "id": "b21a1994",
      "metadata": {
        "pycharm": {
          "name": "#%% md\n"
        },
        "id": "b21a1994"
      },
      "source": [
        "## Прикрепите свои скриншоты, изменив путь.\n",
        "Не забудьте добавить скриншоты в гит, что бы они отобразились на сайте\n",
        "Отредактируйте строчку ниже:\n",
        "![](images/6.png)\n",
        "![](images/7.png)\n",
        "![](images/8.png)\n",
        "![](images/9.png)\n",
        "![](images/10.png)\n",
        "![](images/11.png)\n",
        "![](images/12.png)\n",
        "![](images/13.png)"
      ]
    },
    {
      "cell_type": "code",
      "execution_count": null,
      "id": "9844fd2d",
      "metadata": {
        "id": "9844fd2d"
      },
      "outputs": [],
      "source": []
    }
  ],
  "metadata": {
    "kernelspec": {
      "display_name": "Python 3 (ipykernel)",
      "language": "python",
      "name": "python3"
    },
    "language_info": {
      "codemirror_mode": {
        "name": "ipython",
        "version": 3
      },
      "file_extension": ".py",
      "mimetype": "text/x-python",
      "name": "python",
      "nbconvert_exporter": "python",
      "pygments_lexer": "ipython3",
      "version": "3.9.16"
    },
    "colab": {
      "provenance": []
    }
  },
  "nbformat": 4,
  "nbformat_minor": 5
}